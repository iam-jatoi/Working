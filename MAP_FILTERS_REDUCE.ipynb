{
  "nbformat": 4,
  "nbformat_minor": 0,
  "metadata": {
    "colab": {
      "provenance": [],
      "authorship_tag": "ABX9TyNX0JV8O5Zlv/REiaIkIXmg",
      "include_colab_link": true
    },
    "kernelspec": {
      "name": "python3",
      "display_name": "Python 3"
    },
    "language_info": {
      "name": "python"
    }
  },
  "cells": [
    {
      "cell_type": "markdown",
      "metadata": {
        "id": "view-in-github",
        "colab_type": "text"
      },
      "source": [
        "<a href=\"https://colab.research.google.com/github/iam-jatoi/Working/blob/main/MAP_FILTERS_REDUCE.ipynb\" target=\"_parent\"><img src=\"https://colab.research.google.com/assets/colab-badge.svg\" alt=\"Open In Colab\"/></a>"
      ]
    },
    {
      "cell_type": "markdown",
      "source": [
        "**MAP, FILTERS, REDUCE** -\n",
        "(These are Built in Functions)"
      ],
      "metadata": {
        "id": "e9qqrce1l7LW"
      }
    },
    {
      "cell_type": "markdown",
      "source": [
        "**1. MAP FUNCTION**"
      ],
      "metadata": {
        "id": "XrZxgptr_Yac"
      }
    },
    {
      "cell_type": "code",
      "source": [
        "# MAP\n",
        "# Sample Syntax\n",
        "\n",
        "numbers = [1,2,3,4,5]\n",
        "\n",
        "def square(num: int):\n",
        "  return num * num\n",
        "\n",
        "print(square(2))"
      ],
      "metadata": {
        "id": "Jg2K_gA5mBC3",
        "colab": {
          "base_uri": "https://localhost:8080/"
        },
        "outputId": "fe059a39-fefd-428e-aede-ee48f78c135d"
      },
      "execution_count": 1,
      "outputs": [
        {
          "output_type": "stream",
          "name": "stdout",
          "text": [
            "4\n"
          ]
        }
      ]
    },
    {
      "cell_type": "code",
      "source": [
        "# Sample Syntax\n",
        "# Ye Hy Aam Zindagi\n",
        "\n",
        "numbers = [1,2,3,4,5]\n",
        "\n",
        "def square(num: int):\n",
        "  return num * num\n",
        "\n",
        "print(square(2))  # 2 x 2 = 4\n",
        "\n",
        "new_list = []    # --->>  Empty List\n",
        "\n",
        "for num in numbers:  # ---->>  Using for loop inside function\n",
        "  print(\"num>>>\", num)\n",
        "\n",
        "num_sqr = square(num)\n",
        "\n",
        "\n"
      ],
      "metadata": {
        "id": "l7zYN-uKmm3o",
        "colab": {
          "base_uri": "https://localhost:8080/"
        },
        "outputId": "3bbf87ec-5aec-4765-aa5b-3a48b02108c7"
      },
      "execution_count": 2,
      "outputs": [
        {
          "output_type": "stream",
          "name": "stdout",
          "text": [
            "4\n",
            "num>>> 1\n",
            "num>>> 2\n",
            "num>>> 3\n",
            "num>>> 4\n",
            "num>>> 5\n"
          ]
        }
      ]
    },
    {
      "cell_type": "code",
      "source": [
        "# MAP FUNCTION\n",
        "# Ye hy Mintos Zindagi\n",
        "\n",
        "\n",
        "numbers = [1,2,3,4,5]\n",
        "\n",
        "def square(num: int):\n",
        "  return num * num\n",
        "\n",
        "new_list = list(map(square, numbers))\n",
        "print(\"Numbers\", numbers)\n",
        "print(\"new_list\", new_list)\n",
        "\n"
      ],
      "metadata": {
        "id": "GBrNf4gy5XUM"
      },
      "execution_count": null,
      "outputs": []
    },
    {
      "cell_type": "markdown",
      "source": [
        "**2. FILTERS FUNCTION**"
      ],
      "metadata": {
        "id": "3Ega6xQj6hSs"
      }
    },
    {
      "cell_type": "code",
      "source": [
        "numbers = [1,2,3,4,5]\n",
        "\n",
        "def filter_function(num: int):\n",
        "  return num > 3\n",
        "\n",
        "filtered_list = list(map(filter_function, numbers))\n",
        "print(\"Numbers\", numbers)\n",
        "print(\"Filtered_list\", filtered_list)\n"
      ],
      "metadata": {
        "id": "b3PNADT26gAU"
      },
      "execution_count": null,
      "outputs": []
    },
    {
      "cell_type": "markdown",
      "source": [
        "**REDUCE FUNCTION**"
      ],
      "metadata": {
        "id": "dMf_OALyrSgt"
      }
    },
    {
      "cell_type": "code",
      "source": [],
      "metadata": {
        "id": "0cVgk0D0JErB"
      },
      "execution_count": null,
      "outputs": []
    },
    {
      "cell_type": "code",
      "source": [
        "\n",
        "\n"
      ],
      "metadata": {
        "id": "Tu2-Pm4ArV59"
      },
      "execution_count": null,
      "outputs": []
    }
  ]
}