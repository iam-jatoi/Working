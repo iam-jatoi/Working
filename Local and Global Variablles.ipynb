{
 "cells": [
  {
   "cell_type": "code",
   "execution_count": null,
   "metadata": {},
   "outputs": [],
   "source": [
    "num = 5                 # This Global variable\n",
    "print(num)\n",
    "\n",
    "def Hello():\n",
    "    global num\n",
    "    global result\n",
    "    num1 = 10               # This is Local Variable\n",
    "    result = 10 + 10\n",
    "    print(\"num inside function\", num)\n",
    "    print(\"This is Chatbot How may i help you?\")\n",
    "\n",
    "Hello()\n",
    "print(\"num outside function Two\", num)\n",
    "print(\"result>>>\", num)"
   ]
  },
  {
   "cell_type": "code",
   "execution_count": null,
   "metadata": {},
   "outputs": [],
   "source": [
    "class "
   ]
  }
 ],
 "metadata": {
  "kernelspec": {
   "display_name": "Python 3",
   "language": "python",
   "name": "python3"
  },
  "language_info": {
   "codemirror_mode": {
    "name": "ipython",
    "version": 3
   },
   "file_extension": ".py",
   "mimetype": "text/x-python",
   "name": "python",
   "nbconvert_exporter": "python",
   "pygments_lexer": "ipython3",
   "version": "3.11.0"
  }
 },
 "nbformat": 4,
 "nbformat_minor": 2
}
