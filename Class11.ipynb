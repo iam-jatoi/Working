{
 "cells": [
  {
   "cell_type": "markdown",
   "metadata": {},
   "source": [
    "Short Hand if Else / Ternary Operators\n"
   ]
  },
  {
   "cell_type": "code",
   "execution_count": null,
   "metadata": {},
   "outputs": [],
   "source": [
    "# If Condition\n",
    "\n",
    "# Statement\n",
    "\n",
    " # Statement if condion else statement\n",
    "\n",
    "num : int = 9\n",
    "\n",
    "print(\"\")  \n"
   ]
  },
  {
   "cell_type": "markdown",
   "metadata": {},
   "source": [
    "Enmerated Function"
   ]
  },
  {
   "cell_type": "code",
   "execution_count": null,
   "metadata": {},
   "outputs": [
    {
     "name": "stdout",
     "output_type": "stream",
     "text": [
      "Assalam o Alaikum Abdullah\n",
      "Assalam o Alaikum Abdullah\n",
      "Assalam o Alaikum Abdullah\n"
     ]
    }
   ],
   "source": [
    "names = [\"Ali\",\"Abdullah\",\"Aamir\"]\n",
    "\n",
    "# for name in names:\n",
    "#     print(name[1])\n",
    "\n",
    "index = 0\n",
    "for name in names:\n",
    "        print(f\"name{index} \")\n",
    "\n"
   ]
  },
  {
   "cell_type": "code",
   "execution_count": 12,
   "metadata": {},
   "outputs": [
    {
     "name": "stdout",
     "output_type": "stream",
     "text": [
      "name0: ['Ali', 'Abdullah', 'Aamir']\n",
      "name1: ['Ali', 'Abdullah', 'Aamir']\n",
      "name2: ['Ali', 'Abdullah', 'Aamir']\n"
     ]
    }
   ],
   "source": [
    "names = [\"Ali\",\"Abdullah\",\"Aamir\"]\n",
    "index = 0\n",
    "\n",
    "for index,name in enumerate(names):\n",
    "    print(f\"name{index}: {names}\")\n",
    "\n"
   ]
  }
 ],
 "metadata": {
  "kernelspec": {
   "display_name": "Python 3",
   "language": "python",
   "name": "python3"
  },
  "language_info": {
   "codemirror_mode": {
    "name": "ipython",
    "version": 3
   },
   "file_extension": ".py",
   "mimetype": "text/x-python",
   "name": "python",
   "nbconvert_exporter": "python",
   "pygments_lexer": "ipython3",
   "version": "3.11.0"
  }
 },
 "nbformat": 4,
 "nbformat_minor": 2
}
